{
 "cells": [
  {
   "cell_type": "markdown",
   "metadata": {},
   "source": [
    "## Python  Devincept Project\n",
    "## Create a File Manger in Python"
   ]
  },
  {
   "cell_type": "markdown",
   "metadata": {},
   "source": [
    "### Importing required modules\n",
    "**We will import the following modules:**"
   ]
  },
  {
   "cell_type": "code",
   "execution_count": 1,
   "metadata": {},
   "outputs": [],
   "source": [
    "from tkinter import *\n",
    "import shutil         \n",
    "import os\n",
    "import easygui\n",
    "from tkinter import filedialog\n",
    "from tkinter import messagebox as mb"
   ]
  },
  {
   "cell_type": "markdown",
   "metadata": {},
   "source": [
    "**Defining Functionalities**"
   ]
  },
  {
   "cell_type": "code",
   "execution_count": 2,
   "metadata": {},
   "outputs": [],
   "source": [
    "# open a file box window \n",
    "# when we want to select a file\n",
    "def open_window():\n",
    "    read=easygui.fileopenbox()\n",
    "    return read"
   ]
  },
  {
   "cell_type": "markdown",
   "metadata": {},
   "source": [
    "### Opening a file"
   ]
  },
  {
   "cell_type": "code",
   "execution_count": 3,
   "metadata": {},
   "outputs": [],
   "source": [
    "# open file function\n",
    "def open_file():\n",
    "    string = open_window()\n",
    "    try:\n",
    "        os.startfile(string)\n",
    "    except:\n",
    "        mb.showinfo('confirmation', \"File not found!\")"
   ]
  },
  {
   "cell_type": "markdown",
   "metadata": {},
   "source": [
    "### Copying a file"
   ]
  },
  {
   "cell_type": "code",
   "execution_count": 4,
   "metadata": {},
   "outputs": [],
   "source": [
    "# copy file function\n",
    "def copy_file():\n",
    "    source1 = open_window()\n",
    "    destination1=filedialog.askdirectory()\n",
    "    shutil.copy(source1,destination1)\n",
    "    mb.showinfo('confirmation', \"File Copied !\")"
   ]
  },
  {
   "cell_type": "markdown",
   "metadata": {},
   "source": [
    "### Renaming a file"
   ]
  },
  {
   "cell_type": "code",
   "execution_count": 5,
   "metadata": {},
   "outputs": [],
   "source": [
    "# rename file function\n",
    "def rename_file():\n",
    "    chosenFile = open_window()\n",
    "    path1 = os.path.dirname(chosenFile)\n",
    "    extension=os.path.splitext(chosenFile)[1]\n",
    "    print(\"Enter new name for the chosen file\")\n",
    "    newName=input()\n",
    "    path = os.path.join(path1, newName+extension)\n",
    "    print(path)\n",
    "    os.rename(chosenFile,path) \n",
    "    mb.showinfo('confirmation', \"File Renamed !\")"
   ]
  },
  {
   "cell_type": "markdown",
   "metadata": {},
   "source": [
    "### Deleting a file"
   ]
  },
  {
   "cell_type": "code",
   "execution_count": 6,
   "metadata": {},
   "outputs": [],
   "source": [
    "# delete file function\n",
    "def delete_file():\n",
    "    del_file = open_window()\n",
    "    if os.path.exists(del_file):\n",
    "        os.remove(del_file)             \n",
    "    else:\n",
    "        mb.showinfo('confirmation', \"File not found !\")"
   ]
  },
  {
   "cell_type": "markdown",
   "metadata": {},
   "source": [
    "### Moving a file"
   ]
  },
  {
   "cell_type": "code",
   "execution_count": 7,
   "metadata": {},
   "outputs": [],
   "source": [
    "# move file function\n",
    "def move_file():\n",
    "    source = open_window()\n",
    "    destination =filedialog.askdirectory()\n",
    "    if(source==destination):\n",
    "        mb.showinfo('confirmation', \"Source and destination are same\")\n",
    "    else:\n",
    "        shutil.move(source, destination)  \n",
    "        mb.showinfo('confirmation', \"File Moved !\")"
   ]
  },
  {
   "cell_type": "markdown",
   "metadata": {},
   "source": [
    "### Making a folder"
   ]
  },
  {
   "cell_type": "code",
   "execution_count": 8,
   "metadata": {},
   "outputs": [],
   "source": [
    "# function to make a new folder\n",
    "def make_folder():\n",
    "    newFolderPath = filedialog.askdirectory()\n",
    "    print(\"Enter name of new folder\")\n",
    "\n",
    "    newFolder=input()\n",
    "    path = os.path.join(newFolderPath, newFolder)  \n",
    "\n",
    "    os.mkdir(path)\n",
    "    mb.showinfo('confirmation', \"Folder created !\")"
   ]
  },
  {
   "cell_type": "markdown",
   "metadata": {},
   "source": [
    "### Deleting a folder"
   ]
  },
  {
   "cell_type": "code",
   "execution_count": 9,
   "metadata": {},
   "outputs": [],
   "source": [
    "# function to remove a folder\n",
    "def remove_folder():\n",
    "    delFolder = filedialog.askdirectory()\n",
    "    os.rmdir(delFolder)\n",
    "    mb.showinfo('confirmation', \"Folder Deleted !\")"
   ]
  },
  {
   "cell_type": "markdown",
   "metadata": {},
   "source": [
    "### Listing a file in a folder"
   ]
  },
  {
   "cell_type": "code",
   "execution_count": 10,
   "metadata": {},
   "outputs": [],
   "source": [
    "# function to list all the files in folder\n",
    "def list_files():\n",
    "    folderList = filedialog.askdirectory()\n",
    "    sortlist=sorted(os.listdir(folderList))       \n",
    "    i=0\n",
    "    print(\"Files in \", folderList, \"folder are:\")\n",
    "    while(i<len(sortlist)):\n",
    "        print(sortlist[i]+'\\n')\n",
    "        i+=1"
   ]
  },
  {
   "cell_type": "markdown",
   "metadata": {},
   "source": [
    "### Building a File Manager UI"
   ]
  },
  {
   "cell_type": "code",
   "execution_count": null,
   "metadata": {},
   "outputs": [],
   "source": [
    "root = Tk()\n",
    "\n",
    "\n",
    "# creating label and buttons to perform operations\n",
    "Label(root, text=\"File Manager\", font=(\"Helvetica\", 16), fg=\"blue\").grid(row = 5, column = 2)\n",
    "\n",
    "Button(root, text = \"Open a File\", command = open_file).grid(row=20, column =2)\n",
    "\n",
    "Button(root, text = \"Copy a File\", command = copy_file).grid(row = 20, column = 4)\n",
    "\n",
    "Button(root, text = \"Delete a File\", command = delete_file).grid(row = 40, column = 2)\n",
    "\n",
    "Button(root, text = \"Rename a File\", command = rename_file).grid(row = 40, column = 4)\n",
    "\n",
    "Button(root, text = \"Move a File\", command = move_file).grid(row = 60, column =2)\n",
    "\n",
    "Button(root, text = \"Make a Folder\", command = make_folder).grid(row = 60, column = 4)\n",
    "\n",
    "Button(root, text = \"Remove a Folder\", command = remove_folder).grid(row = 80, column =2)\n",
    "\n",
    "Button(root, text = \"List all Files in Directory\", command = list_files).grid(row = 80,column = 4)\n",
    "\n",
    "\n",
    "\n",
    "root.mainloop()\n"
   ]
  },
  {
   "cell_type": "code",
   "execution_count": null,
   "metadata": {},
   "outputs": [],
   "source": []
  }
 ],
 "metadata": {
  "kernelspec": {
   "display_name": "Python 3",
   "language": "python",
   "name": "python3"
  },
  "language_info": {
   "codemirror_mode": {
    "name": "ipython",
    "version": 3
   },
   "file_extension": ".py",
   "mimetype": "text/x-python",
   "name": "python",
   "nbconvert_exporter": "python",
   "pygments_lexer": "ipython3",
   "version": "3.8.5"
  }
 },
 "nbformat": 4,
 "nbformat_minor": 4
}
